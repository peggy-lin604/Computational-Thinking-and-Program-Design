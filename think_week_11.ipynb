{
  "nbformat": 4,
  "nbformat_minor": 0,
  "metadata": {
    "colab": {
      "name": "Untitled2.ipynb",
      "provenance": []
    },
    "kernelspec": {
      "name": "python3",
      "display_name": "Python 3"
    }
  },
  "cells": [
    {
      "cell_type": "code",
      "metadata": {
        "id": "GbsRxNGUnMk4",
        "colab_type": "code",
        "colab": {
          "base_uri": "https://localhost:8080/",
          "height": 87
        },
        "outputId": "b52cb04a-5cc6-46cd-904f-45377145f78c"
      },
      "source": [
        "print(\"哈囉。我是Zyxo64。我是一個聊天機器人。\")\n",
        "print(\"我喜歡動物，也喜歡聊食物\")\n",
        "name = input(\"你叫什麼名子?\")\n",
        "print(\"你好\", name, \"很高興認識你\")"
      ],
      "execution_count": 1,
      "outputs": [
        {
          "output_type": "stream",
          "text": [
            "哈囉。我是Zyxo64。我是一個聊天機器人。\n",
            "我喜歡動物，也喜歡聊食物\n",
            "你叫什麼名子?Peggy\n",
            "你好 Peggy 很高興認識你\n"
          ],
          "name": "stdout"
        }
      ]
    },
    {
      "cell_type": "markdown",
      "metadata": {
        "id": "kgxbis81qfX5",
        "colab_type": "text"
      },
      "source": [
        "(社團博覽會)\n",
        "哈囉!我叫做喵喵，喵~ \n",
        "你叫甚麼名字呢?\n",
        "喵 我叫XX \n",
        "你好XX，很高興認識你，喵~ \n",
        "你從哪裡來?喵~ \n",
        "是從xx來的喔 \n",
        "喔喵喵聽說xx是一個很美的地方，喵 \n",
        "(自行回答) \n",
        "喵喵是從喵喵星來的喵星人，喵~ 很酷吧喵 \n",
        "你有參加過幾個社團呢，喵~ \n",
        "我有參加過X個社團 \n",
        "哇好棒喔!喵 \n",
        "我只有參加過合唱團，喵~ \n",
        "請問你是幾年級?喵~ \n",
        "我是X年級 喔那不就是X歲，喵 \n",
        "喵喵我今年才18歲喔，喵~ \n",
        "喵喵的興趣是追老鼠和唱歌，喵~ \n",
        "你的興趣是甚麼?喵~ \n",
        "是XX喔! \n",
        "喵喵也喜歡XX喔! \n",
        "希望今天的社團博覽會你能夠玩得開心，喵 \n",
        "喵喵要去捉老鼠了，下次再見喔掰掰喵"
      ]
    }
  ]
}