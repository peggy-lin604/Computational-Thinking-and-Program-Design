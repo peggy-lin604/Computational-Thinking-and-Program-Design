{
  "nbformat": 4,
  "nbformat_minor": 0,
  "metadata": {
    "colab": {
      "name": "Untitled1.ipynb",
      "provenance": []
    },
    "kernelspec": {
      "name": "python3",
      "display_name": "Python 3"
    }
  },
  "cells": [
    {
      "cell_type": "code",
      "metadata": {
        "id": "2vsNpEFlLudR",
        "colab_type": "code",
        "colab": {
          "base_uri": "https://localhost:8080/",
          "height": 122
        },
        "outputId": "a74b96fb-707c-46ec-d255-5eeb1b2aef1d"
      },
      "source": [
        "minutes_to_convert = 133 #電影時長\n",
        "hours_decimal = minutes_to_convert/60 #取得小時\n",
        "hours_part = int(hours_decimal) #取得整數\n",
        "minutes_decimal = hours_decimal - hours_part #取得整數\n",
        "minutes_part = round(minutes_decimal*60) #取得分鐘數\n",
        "\n",
        "print(\"Hours\")\n",
        "print(hours_part)\n",
        "print(\"Minutes\")\n",
        "print(minutes_part)\n",
        "print(\"Length\")\n",
        "print(minutes_to_convert)"
      ],
      "execution_count": 1,
      "outputs": [
        {
          "output_type": "stream",
          "text": [
            "Hours\n",
            "2\n",
            "Minutes\n",
            "13\n",
            "Length\n",
            "133\n"
          ],
          "name": "stdout"
        }
      ]
    }
  ]
}