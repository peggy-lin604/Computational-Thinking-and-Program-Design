{
  "nbformat": 4,
  "nbformat_minor": 0,
  "metadata": {
    "colab": {
      "name": "Untitled2.ipynb",
      "provenance": []
    },
    "kernelspec": {
      "name": "python3",
      "display_name": "Python 3"
    }
  },
  "cells": [
    {
      "cell_type": "markdown",
      "metadata": {
        "id": "7hsJeVN-TU1v",
        "colab_type": "text"
      },
      "source": [
        "LBD 1 全班40人分組，每五位同學一組，老師規定依座號順序分組，也就是1號到5號一組，6號到10號一組，請寫一個程式允許使用者輸入座號，輸出分組的組別。"
      ]
    },
    {
      "cell_type": "code",
      "metadata": {
        "id": "F5Cb6aFfTZGS",
        "colab_type": "code",
        "colab": {
          "base_uri": "https://localhost:8080/",
          "height": 52
        },
        "outputId": "aac7644a-d986-49e1-89cf-e69fb37b6848"
      },
      "source": [
        "座號 = int(input(\"請輸入座號\")) #文字轉數字\n",
        "組別 = (座號-1)//5 + 1\n",
        "print(\"組別為\", 組別)"
      ],
      "execution_count": 2,
      "outputs": [
        {
          "output_type": "stream",
          "text": [
            "請輸入座號24\n",
            "組別為 5\n"
          ],
          "name": "stdout"
        }
      ]
    },
    {
      "cell_type": "markdown",
      "metadata": {
        "id": "6huCw29hUZXW",
        "colab_type": "text"
      },
      "source": [
        "LBD 2 請設計一個程式計算圓面積與圓周長，依輸入的半徑計算圓面積與圓周長。"
      ]
    },
    {
      "cell_type": "code",
      "metadata": {
        "id": "m0DnAcHIUgtV",
        "colab_type": "code",
        "colab": {
          "base_uri": "https://localhost:8080/",
          "height": 70
        },
        "outputId": "5935a3f9-cb39-4107-9f80-5670c3a996ca"
      },
      "source": [
        "半徑 = int(input(\"半徑\"))\n",
        "圓面積 = (半徑*半徑*3.14)\n",
        "print(\"面積為\", 圓面積)\n",
        "圓周長 = (半徑*2*3.14)\n",
        "print(\"周長為\", 圓周長)"
      ],
      "execution_count": 4,
      "outputs": [
        {
          "output_type": "stream",
          "text": [
            "半徑6\n",
            "面積為 113.04\n",
            "周長為 37.68\n"
          ],
          "name": "stdout"
        }
      ]
    },
    {
      "cell_type": "markdown",
      "metadata": {
        "id": "7JM4RjHiVp0R",
        "colab_type": "text"
      },
      "source": [
        "LBD 3 請設計一個程式將輸入的攝氏溫度轉成華氏溫度，轉換公式如下:華氏溫度= 攝氏溫度*9/5+32"
      ]
    },
    {
      "cell_type": "code",
      "metadata": {
        "id": "R9W_9vA9VwAt",
        "colab_type": "code",
        "colab": {
          "base_uri": "https://localhost:8080/",
          "height": 52
        },
        "outputId": "5a6193e1-e328-4ed3-a89c-e29aed252744"
      },
      "source": [
        "攝氏溫度 = int(input(\"攝氏溫度\"))\n",
        "華氏溫度 = (攝氏溫度*9/5+32)\n",
        "print(\"華氏溫度為\", 華氏溫度)"
      ],
      "execution_count": 5,
      "outputs": [
        {
          "output_type": "stream",
          "text": [
            "攝氏溫度25\n",
            "華氏溫度為 77.0\n"
          ],
          "name": "stdout"
        }
      ]
    },
    {
      "cell_type": "markdown",
      "metadata": {
        "id": "lT_P2sJnWgF2",
        "colab_type": "text"
      },
      "source": [
        "LBD 4 假設上衣300元、褲子350元與背心400元，使用者可以自行輸入三種服裝的數量，請設計一個程式計算訂購服裝的總金額。"
      ]
    },
    {
      "cell_type": "code",
      "metadata": {
        "id": "ZvUZZ_WiWnLM",
        "colab_type": "code",
        "colab": {
          "base_uri": "https://localhost:8080/",
          "height": 87
        },
        "outputId": "5314f441-c4a3-4581-cca8-ba2d443523f1"
      },
      "source": [
        "上衣 = int(input(\"請輸入上衣數量\"))\n",
        "褲子 = int(input(\"請輸入褲子數量\"))\n",
        "背心 = int(input(\"請輸入背心數量\"))\n",
        "總金額 = (上衣*300+褲子*350+背心*400)\n",
        "print(\"總金額為\", 總金額)"
      ],
      "execution_count": 6,
      "outputs": [
        {
          "output_type": "stream",
          "text": [
            "請輸入上衣數量2\n",
            "請輸入褲子數量4\n",
            "請輸入背心數量5\n",
            "總金額為 4000\n"
          ],
          "name": "stdout"
        }
      ]
    },
    {
      "cell_type": "markdown",
      "metadata": {
        "id": "YyZ60zz-X0Cd",
        "colab_type": "text"
      },
      "source": [
        "LBD 5  假設飲料一罐賣20元，一打賣200元，請設計一個程式計算買幾罐需花多少錢，若不足一打就個別買。"
      ]
    },
    {
      "cell_type": "code",
      "metadata": {
        "id": "haU3leXbX6xJ",
        "colab_type": "code",
        "colab": {
          "base_uri": "https://localhost:8080/",
          "height": 52
        },
        "outputId": "94898775-816b-48de-db45-4c43c7304877"
      },
      "source": [
        "數量 = int(input(\"請輸入購買數量\"))\n",
        "一打 = (數量//12)\n",
        "不足一打 = (數量%12)\n",
        "總金額 = (一打*200+不足一打*20)\n",
        "print(\"總金額為\", 總金額)"
      ],
      "execution_count": 7,
      "outputs": [
        {
          "output_type": "stream",
          "text": [
            "請輸入購買數量15\n",
            "總金額為 260\n"
          ],
          "name": "stdout"
        }
      ]
    },
    {
      "cell_type": "markdown",
      "metadata": {
        "id": "9jDOI70YZDsM",
        "colab_type": "text"
      },
      "source": [
        "LBD 6 輸入第一次期中考、第二次期中考與期末考成績，成績皆為整數，請計算分數的加總與平均。"
      ]
    },
    {
      "cell_type": "code",
      "metadata": {
        "id": "ZN0Yd_VXZJpa",
        "colab_type": "code",
        "colab": {
          "base_uri": "https://localhost:8080/",
          "height": 105
        },
        "outputId": "c6b66b44-7d61-42c0-bfab-0886cfa12b78"
      },
      "source": [
        "第一次期中考成績 = int(input(\"請輸入第一次段考成績\"))\n",
        "第二次其中考成績 = int(input(\"請輸入第二次期中考成績\"))\n",
        "期末考成績 = int(input(\"請輸入期末考成績\"))\n",
        "加總 = (第一次期中考成績+第二次其中考成績+期末考成績)\n",
        "平均 = (加總//3)\n",
        "print(\"分數加總為\", 加總)\n",
        "print(\"分數平均為\", 平均)"
      ],
      "execution_count": 8,
      "outputs": [
        {
          "output_type": "stream",
          "text": [
            "請輸入第一次段考成績85\n",
            "請輸入第二次期中考成績68\n",
            "請輸入期末考成績88\n",
            "分數加總為 241\n",
            "分數平均為 80\n"
          ],
          "name": "stdout"
        }
      ]
    }
  ]
}