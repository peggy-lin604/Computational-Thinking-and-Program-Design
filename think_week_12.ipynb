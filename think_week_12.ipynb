{
  "nbformat": 4,
  "nbformat_minor": 0,
  "metadata": {
    "colab": {
      "name": "Untitled2.ipynb",
      "provenance": []
    },
    "kernelspec": {
      "name": "python3",
      "display_name": "Python 3"
    }
  },
  "cells": [
    {
      "cell_type": "code",
      "metadata": {
        "id": "NHKGYR9Iy44O",
        "colab_type": "code",
        "colab": {
          "base_uri": "https://localhost:8080/",
          "height": 72
        },
        "outputId": "d610d033-37f9-478b-fd71-3fc49bb0905c"
      },
      "source": [
        "num = int(input(\"請輸入一個數字\"))\n",
        "if num > 0:\n",
        "  print(\"數字為正數\")\n",
        "print(\"比較完畢\")"
      ],
      "execution_count": 8,
      "outputs": [
        {
          "output_type": "stream",
          "text": [
            "請輸入一個數字2\n",
            "數字為正數\n",
            "比較完畢\n"
          ],
          "name": "stdout"
        }
      ]
    },
    {
      "cell_type": "code",
      "metadata": {
        "id": "6eQGiSUbz1xf",
        "colab_type": "code",
        "colab": {
          "base_uri": "https://localhost:8080/",
          "height": 72
        },
        "outputId": "220e2e1b-c7ea-4a64-e562-cd335e12c857"
      },
      "source": [
        "num = input(\"Enter a number\")\n",
        "num = int(num)\n",
        "if num > 0:\n",
        "  print(\"Postivite number\")\n",
        "if num < 0:\n",
        "  print(\"Negative number\")\n",
        "if num == 0:\n",
        "  print(\"Zero\")\n",
        "print(\"End\")"
      ],
      "execution_count": 12,
      "outputs": [
        {
          "output_type": "stream",
          "text": [
            "Enter a number-9\n",
            "Negative number\n",
            "End\n"
          ],
          "name": "stdout"
        }
      ]
    },
    {
      "cell_type": "code",
      "metadata": {
        "id": "FfruTsHuxvv2",
        "colab_type": "code",
        "colab": {
          "base_uri": "https://localhost:8080/",
          "height": 72
        },
        "outputId": "a400d6bf-2318-4585-fb1b-685f28fa0ae3"
      },
      "source": [
        "noodle=input(\"你有麵嗎?\")\n",
        "sauce=input(\"你有醬料嗎?\")\n",
        "if noodle and sauce==\"有\":\n",
        "  print(\"那今晚吃義大利麵吧\")\n",
        "else:\n",
        "  print(\"那今晚就不吃義大利麵了\")"
      ],
      "execution_count": 6,
      "outputs": [
        {
          "output_type": "stream",
          "text": [
            "你有麵嗎?有\n",
            "你有醬料嗎?沒有\n",
            "那今晚就不吃義大利麵了\n"
          ],
          "name": "stdout"
        }
      ]
    },
    {
      "cell_type": "code",
      "metadata": {
        "id": "8uKgVjSPypgH",
        "colab_type": "code",
        "colab": {
          "base_uri": "https://localhost:8080/",
          "height": 72
        },
        "outputId": "d7e08230-61f0-4e5b-b065-3f2894b7e738"
      },
      "source": [
        "noodle=input(\"你有麵嗎?\")\n",
        "sauce=input(\"你有醬料嗎?\")\n",
        "if noodle and sauce==\"有\":\n",
        "  print(\"那今晚吃義大利麵吧\")\n",
        "else:\n",
        "  print(\"那今晚就不吃義大利麵了\")"
      ],
      "execution_count": 7,
      "outputs": [
        {
          "output_type": "stream",
          "text": [
            "你有麵嗎?有\n",
            "你有醬料嗎?有\n",
            "那今晚吃義大利麵吧\n"
          ],
          "name": "stdout"
        }
      ]
    },
    {
      "cell_type": "code",
      "metadata": {
        "id": "VebJg3y11i-O",
        "colab_type": "code",
        "colab": {
          "base_uri": "https://localhost:8080/",
          "height": 72
        },
        "outputId": "56e3ed54-241a-47f3-a883-4a38b6f9774c"
      },
      "source": [
        "noodle=input(\"你有麵嗎?\")\n",
        "if noodle==\"有\":\n",
        "   sauce=(input(\"那你有醬料嗎?\"))\n",
        "   if sauce==\"有\":\n",
        "     print(\"那今晚吃義大利麵吧\")\n",
        "   else:\n",
        "    print(\"那今晚就不吃義大利麵了\")\n",
        "else:\n",
        "  print(\"那今晚就不吃義大利麵了\")\n"
      ],
      "execution_count": 24,
      "outputs": [
        {
          "output_type": "stream",
          "text": [
            "你有麵嗎?有\n",
            "那你有醬料嗎?沒有\n",
            "那今晚就不吃義大利麵了\n"
          ],
          "name": "stdout"
        }
      ]
    }
  ]
}