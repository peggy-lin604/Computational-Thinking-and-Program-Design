{
  "nbformat": 4,
  "nbformat_minor": 0,
  "metadata": {
    "colab": {
      "name": "Untitled4.ipynb",
      "provenance": []
    },
    "kernelspec": {
      "name": "python3",
      "display_name": "Python 3"
    }
  },
  "cells": [
    {
      "cell_type": "markdown",
      "metadata": {
        "id": "9QU7SieYfwba",
        "colab_type": "text"
      },
      "source": [
        "作業一:\n",
        "請寫一個程式讓使用者輸入身高與體重，顯示BMI 值與肥胖程度。\n",
        "其中，BMI 等於體重（KG）除以身高（M）的平方，而BMI 與肥胖分類標準請參考下面連結。（體重過低、正常、過重、肥胖）"
      ]
    },
    {
      "cell_type": "code",
      "metadata": {
        "id": "XKxWFPLmfzga",
        "colab_type": "code",
        "colab": {
          "base_uri": "https://localhost:8080/",
          "height": 87
        },
        "outputId": "20e70a70-fcb5-472e-e33d-ec3f12fface1"
      },
      "source": [
        "體重=int(input(\"請輸入體重\"))\n",
        "身高=int(input(\"請輸入身高\"))\n",
        "BMI=體重/((身高/100)*(身高/100))\n",
        "print(\"BMI值為\", BMI)\n",
        "if BMI<18:\n",
        "  print(\"過輕\")\n",
        "elif BMI<24:\n",
        "  print(\"正常\")\n",
        "elif BMI<27:\n",
        "  print(\"過重\")\n",
        "else:\n",
        "  print(\"超重\")  "
      ],
      "execution_count": 2,
      "outputs": [
        {
          "output_type": "stream",
          "text": [
            "請輸入體重58\n",
            "請輸入身高168\n",
            "BMI值為 20.549886621315196\n",
            "正常\n"
          ],
          "name": "stdout"
        }
      ]
    },
    {
      "cell_type": "markdown",
      "metadata": {
        "id": "n9RBb7X1jPFF",
        "colab_type": "text"
      },
      "source": [
        "作業二:\n",
        "請用while迴圈印十次\"Hello，你好嗎！\""
      ]
    },
    {
      "cell_type": "code",
      "metadata": {
        "id": "UoiXM5C9jUeL",
        "colab_type": "code",
        "colab": {
          "base_uri": "https://localhost:8080/",
          "height": 193
        },
        "outputId": "21ab1364-9628-4ab0-fe1d-2c22939bea6a"
      },
      "source": [
        "n=1\n",
        "while n<=10:\n",
        "  print(\"Hello，你好嗎!\")\n",
        "  n=n+1"
      ],
      "execution_count": 3,
      "outputs": [
        {
          "output_type": "stream",
          "text": [
            "Hello，你好嗎!\n",
            "Hello，你好嗎!\n",
            "Hello，你好嗎!\n",
            "Hello，你好嗎!\n",
            "Hello，你好嗎!\n",
            "Hello，你好嗎!\n",
            "Hello，你好嗎!\n",
            "Hello，你好嗎!\n",
            "Hello，你好嗎!\n",
            "Hello，你好嗎!\n"
          ],
          "name": "stdout"
        }
      ]
    }
  ]
}