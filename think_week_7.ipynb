{
  "nbformat": 4,
  "nbformat_minor": 0,
  "metadata": {
    "colab": {
      "name": "think_week 7.ipynb",
      "provenance": [],
      "collapsed_sections": []
    },
    "kernelspec": {
      "name": "python3",
      "display_name": "Python 3"
    }
  },
  "cells": [
    {
      "cell_type": "code",
      "metadata": {
        "id": "ixA5Zl0fogkj",
        "colab_type": "code",
        "colab": {}
      },
      "source": [
        "#網址:https://www.imdb.com/title/tt11239552/\n"
      ],
      "execution_count": 0,
      "outputs": []
    },
    {
      "cell_type": "code",
      "metadata": {
        "id": "NYwWCPE-pB9P",
        "colab_type": "code",
        "colab": {
          "base_uri": "https://localhost:8080/",
          "height": 217
        },
        "outputId": "92dd2d3b-99fa-4796-9ccd-678a79794c5a"
      },
      "source": [
        "drama_title = \"Itaewon Keullasseu\" # 韓劇名稱\n",
        "release_year = \"2020\" # 放映日期\n",
        "totle_episode = 16 # 總集數\n",
        "movie_time_min = 70 # 每集片長(平均)\n",
        "drama_rating = 8.3 # 評分\n",
        "director = \"金允成 江敏九\" # 導演\n",
        "star_1 = \"朴敘俊\" # 主要演員\n",
        "star_2 = \"金多美\"\n",
        "star_3 = \"全娜拉\"\n",
        "star_4 = \"劉在明\"\n",
        "like = 7.5 # 我的評分\n",
        "\n",
        "print(drama_title)\n",
        "print(release_year)\n",
        "print(totle_episode)\n",
        "print(movie_time_min)\n",
        "print(drama_rating)\n",
        "print(director)\n",
        "print(star_1)\n",
        "print(star_2)\n",
        "print(star_3)\n",
        "print(star_4)\n",
        "print(like)"
      ],
      "execution_count": 5,
      "outputs": [
        {
          "output_type": "stream",
          "text": [
            "Itaewon Keullasseu\n",
            "2020\n",
            "16\n",
            "70\n",
            "8.3\n",
            "金允成 江敏九\n",
            "朴敘俊\n",
            "金多美\n",
            "全娜拉\n",
            "劉在明\n",
            "7.5\n"
          ],
          "name": "stdout"
        }
      ]
    },
    {
      "cell_type": "code",
      "metadata": {
        "id": "0SrVb1StswhT",
        "colab_type": "code",
        "colab": {}
      },
      "source": [
        ""
      ],
      "execution_count": 0,
      "outputs": []
    }
  ]
}