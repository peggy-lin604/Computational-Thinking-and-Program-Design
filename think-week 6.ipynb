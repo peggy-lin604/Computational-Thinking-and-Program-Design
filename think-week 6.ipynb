{
  "nbformat": 4,
  "nbformat_minor": 0,
  "metadata": {
    "colab": {
      "name": "Untitled0.ipynb",
      "provenance": [],
      "collapsed_sections": []
    },
    "kernelspec": {
      "name": "python3",
      "display_name": "Python 3"
    }
  },
  "cells": [
    {
      "cell_type": "code",
      "metadata": {
        "id": "pVUdZlUrASLV",
        "colab_type": "code",
        "colab": {
          "base_uri": "https://localhost:8080/",
          "height": 70
        },
        "outputId": "f638bf5b-b288-4b16-f991-6e8c1f68d8e8"
      },
      "source": [
        "print(\"我的姓名是\", \"林沛璇\")\n",
        "print(\"我的年紀是\", 19, \"歲\")\n",
        "print(\"我的體重是\", 58, \"公斤\")"
      ],
      "execution_count": 1,
      "outputs": [
        {
          "output_type": "stream",
          "text": [
            "我的姓名是 林沛璇\n",
            "我的年紀是 19 歲\n",
            "我的體重是 58 公斤\n"
          ],
          "name": "stdout"
        }
      ]
    },
    {
      "cell_type": "code",
      "metadata": {
        "id": "6urQaBt2CgDV",
        "colab_type": "code",
        "colab": {
          "base_uri": "https://localhost:8080/",
          "height": 70
        },
        "outputId": "56f43065-808b-4734-f3d8-813c2f5a0a91"
      },
      "source": [
        "name = \"林沛璇\"\n",
        "print(\"我的名子是\", name)\n",
        "year = 19\n",
        "print(\"我的年紀是\", 19, \"歲\")\n",
        "kg = 58\n",
        "print(\"我的體重是\", kg, \"公斤\")"
      ],
      "execution_count": 2,
      "outputs": [
        {
          "output_type": "stream",
          "text": [
            "我的名子是 林沛璇\n",
            "我的年紀是 19 歲\n",
            "我的體重是 58 公斤\n"
          ],
          "name": "stdout"
        }
      ]
    },
    {
      "cell_type": "code",
      "metadata": {
        "id": "YhuVobtQDTGy",
        "colab_type": "code",
        "colab": {
          "base_uri": "https://localhost:8080/",
          "height": 122
        },
        "outputId": "894df8eb-dbe6-4374-de71-44a7a9569772"
      },
      "source": [
        "name = input(\"請輸入你的姓名\")\n",
        "print(\"我的名子是\", name)\n",
        "year = input(\"請輸入你的年紀\")\n",
        "print(\"我的年紀是\", year, \"歲\")\n",
        "kg = input(\"請輸入你的體重\")\n",
        "print(\"我的體重是\", kg, \"公斤\")"
      ],
      "execution_count": 4,
      "outputs": [
        {
          "output_type": "stream",
          "text": [
            "請輸入你的姓名林沛璇\n",
            "我的名子是 林沛璇\n",
            "請輸入你的年紀19\n",
            "我的年紀是 19 歲\n",
            "請輸入你的體重58\n",
            "我的體重是 58 公斤\n"
          ],
          "name": "stdout"
        }
      ]
    },
    {
      "cell_type": "code",
      "metadata": {
        "id": "PUQZuEJSDwa3",
        "colab_type": "code",
        "colab": {}
      },
      "source": [
        ""
      ],
      "execution_count": 0,
      "outputs": []
    }
  ]
}