{
  "nbformat": 4,
  "nbformat_minor": 0,
  "metadata": {
    "colab": {
      "name": "Untitled3.ipynb",
      "provenance": []
    },
    "kernelspec": {
      "name": "python3",
      "display_name": "Python 3"
    }
  },
  "cells": [
    {
      "cell_type": "code",
      "metadata": {
        "id": "imiQQ5nlazRS",
        "colab_type": "code",
        "colab": {
          "base_uri": "https://localhost:8080/",
          "height": 52
        },
        "outputId": "b886fa3a-5e01-4c3a-e81c-c86fe4ac31c2"
      },
      "source": [
        "# 及格與否\n",
        "分數 = int(input(\"請輸入分數\"))\n",
        "\n",
        "if 分數 >= 60:\n",
        "  print(\"及格\")\n",
        "else:\n",
        "  print(\"不及格\")"
      ],
      "execution_count": 1,
      "outputs": [
        {
          "output_type": "stream",
          "text": [
            "請輸入分數55\n",
            "不及格\n"
          ],
          "name": "stdout"
        }
      ]
    },
    {
      "cell_type": "markdown",
      "metadata": {
        "id": "E6-9EFfocYdl",
        "colab_type": "text"
      },
      "source": [
        "請用單向選擇、雙向選擇與多向選擇三種方式來回答下面的題目。\n",
        "\n",
        "寫一個程式若成績大於等於80 分，評語為「非常好」；否則若成績大於等於60 分，評語為「不錯喔」；否則評語為「要加油」。"
      ]
    },
    {
      "cell_type": "code",
      "metadata": {
        "id": "oofY_lfDccE4",
        "colab_type": "code",
        "colab": {
          "base_uri": "https://localhost:8080/",
          "height": 52
        },
        "outputId": "0a4856c3-a45b-4669-c6e7-be78f1871601"
      },
      "source": [
        "# 單項選擇\n",
        "score = int(input(\"請輸入成績\"))\n",
        "if score >= 80:\n",
        "  print(\"非常好\")\n",
        "if 80>score>=60:\n",
        "  print(\"不錯喔\")\n",
        "if score<60:\n",
        "  print(\"要加油\")  "
      ],
      "execution_count": 4,
      "outputs": [
        {
          "output_type": "stream",
          "text": [
            "請輸入成績76\n",
            "不錯喔\n"
          ],
          "name": "stdout"
        }
      ]
    },
    {
      "cell_type": "code",
      "metadata": {
        "id": "fnwNgoMydiJL",
        "colab_type": "code",
        "colab": {
          "base_uri": "https://localhost:8080/",
          "height": 70
        },
        "outputId": "463135d7-6434-43bd-937f-3e720fb37d95"
      },
      "source": [
        "# 雙向選擇\n",
        "score = int(input(\"請輸入成績\"))\n",
        "if score >= 80:\n",
        "  print(\"非常好\")\n",
        "else:\n",
        "  print(\"再加油\")\n",
        "  if score >= 60:\n",
        "    print(\"不錯喔\")\n",
        "  else:\n",
        "    print(\"要再努力一點\")"
      ],
      "execution_count": 5,
      "outputs": [
        {
          "output_type": "stream",
          "text": [
            "請輸入成績54\n",
            "再加油\n",
            "要再努力一點\n"
          ],
          "name": "stdout"
        }
      ]
    },
    {
      "cell_type": "code",
      "metadata": {
        "id": "v8mw4GgEeigq",
        "colab_type": "code",
        "colab": {
          "base_uri": "https://localhost:8080/",
          "height": 52
        },
        "outputId": "3dec13a8-173e-40c8-f269-f5f3b9e6f984"
      },
      "source": [
        "# 多項選擇\n",
        "score = int(input(\"請輸入成績\"))\n",
        "if score >= 80:\n",
        "  print(\"非常好\")\n",
        "elif score >= 60:\n",
        "  print(\"不錯喔\")\n",
        "else:\n",
        "  print(\"再加油\")"
      ],
      "execution_count": 6,
      "outputs": [
        {
          "output_type": "stream",
          "text": [
            "請輸入成績56\n",
            "再加油\n"
          ],
          "name": "stdout"
        }
      ]
    }
  ]
}