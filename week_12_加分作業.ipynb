{
  "nbformat": 4,
  "nbformat_minor": 0,
  "metadata": {
    "colab": {
      "name": "Untitled2.ipynb",
      "provenance": []
    },
    "kernelspec": {
      "name": "python3",
      "display_name": "Python 3"
    }
  },
  "cells": [
    {
      "cell_type": "code",
      "metadata": {
        "id": "eixGYLwqZMe5",
        "colab_type": "code",
        "colab": {
          "base_uri": "https://localhost:8080/",
          "height": 70
        },
        "outputId": "5680ff11-3d92-4009-ac48-ca8ae6c3f9d7"
      },
      "source": [
        "hungry = input(\"現在餓嗎? YES or NO\")\n",
        "price = float(input(\"一條巧克力多少錢?\"))\n",
        "\n",
        "bar = 0\n",
        "if hungry ==\"YES\":\n",
        "  if price < 10:\n",
        "    print(\"便宜，多買點\")\n",
        "    bars = 100\n",
        "  if 10<= price <= 50:\n",
        "    print(\"還好，買一些\")\n",
        "    bars = 10\n",
        "  if price > 50:\n",
        "    print(\"好貴，買一條\")\n",
        "    bars = 1 \n",
        "if hungry ==\"NO\":\n",
        "  print(\"不餓就不買了\")\n",
        "if bars > 10:\n",
        "  print(\"店員說:今天很餓!\")    "
      ],
      "execution_count": 1,
      "outputs": [
        {
          "output_type": "stream",
          "text": [
            "現在餓嗎? YES or NOYES\n",
            "一條巧克力多少錢?20\n",
            "還好，買一些\n"
          ],
          "name": "stdout"
        }
      ]
    }
  ]
}